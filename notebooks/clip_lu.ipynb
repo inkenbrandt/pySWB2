{
 "cells": [
  {
   "cell_type": "code",
   "id": "initial_id",
   "metadata": {
    "collapsed": true,
    "ExecuteTime": {
     "end_time": "2024-12-04T20:18:41.005032Z",
     "start_time": "2024-12-04T20:18:39.782203Z"
    }
   },
   "source": [
    "import requests\n",
    "import rasterio\n",
    "import numpy as np\n",
    "from rasterio.transform import from_origin\n",
    "from rasterio.crs import CRS\n",
    "\n",
    "\n",
    "def clip_nlcd(bbox, output_path, resolution=30):\n",
    "    \"\"\"\n",
    "    Clip NLCD data for a given bounding box and save to file.\n",
    "\n",
    "    Parameters:\n",
    "    bbox (tuple): Bounding box coordinates (xmin, ymin, xmax, ymax) in WGS84\n",
    "    output_path (str): Path to save the output GeoTIFF\n",
    "    resolution (int): Desired resolution in meters (default 30m for NLCD)\n",
    "    \"\"\"\n",
    "    # NLCD Image Service base URL\n",
    "    base_url = \"https://landscape10.arcgis.com/arcgis/rest/services/USA_NLCD_Land_Cover/ImageServer/exportImage\"\n",
    "\n",
    "    # Calculate image dimensions\n",
    "    width = int((bbox[2] - bbox[0]) / resolution)\n",
    "    height = int((bbox[3] - bbox[1]) / resolution)\n",
    "\n",
    "    # Construct parameters for the export request\n",
    "    params = {\n",
    "        'bbox': f\"{bbox[0]},{bbox[1]},{bbox[2]},{bbox[3]}\",\n",
    "        'bboxSR': 4326,  # WGS84 EPSG code\n",
    "        'size': f\"{width},{height}\",\n",
    "        'imageSR': 4326,\n",
    "        'format': 'tiff',\n",
    "        'pixelType': '8_BIT_UNSIGNED',\n",
    "        'noData': None,\n",
    "        'f': 'json'\n",
    "    }\n",
    "\n",
    "    try:\n",
    "        # Request the image\n",
    "        response = requests.get(base_url, params=params)\n",
    "        response.raise_for_status()\n",
    "\n",
    "        # Get the URL for the exported image\n",
    "        result = response.json()\n",
    "        if 'error' in result:\n",
    "            raise Exception(f\"API Error: {result['error']}\")\n",
    "\n",
    "        image_url = result.get('href')\n",
    "        if not image_url:\n",
    "            raise Exception(\"No image URL in response\")\n",
    "\n",
    "        # Download the actual image\n",
    "        image_response = requests.get(image_url)\n",
    "        image_response.raise_for_status()\n",
    "\n",
    "        # Save to file\n",
    "        with open(output_path, 'wb') as f:\n",
    "            f.write(image_response.content)\n",
    "\n",
    "        # Update the georeference information\n",
    "        with rasterio.open(output_path, 'r+') as dst:\n",
    "            transform = from_origin(bbox[0], bbox[3], resolution, resolution)\n",
    "            dst.transform = transform\n",
    "            dst.crs = CRS.from_epsg(4326)\n",
    "\n",
    "        print(f\"Successfully saved clipped NLCD data to {output_path}\")\n",
    "\n",
    "    except Exception as e:\n",
    "        print(f\"Error: {str(e)}\")\n",
    "\n"
   ],
   "outputs": [],
   "execution_count": 1
  },
  {
   "metadata": {
    "ExecuteTime": {
     "end_time": "2024-12-04T20:18:46.292668Z",
     "start_time": "2024-12-04T20:18:46.006500Z"
    }
   },
   "cell_type": "code",
   "source": [
    "\n",
    "# Example bbox for Washington, DC area\n",
    "dc_bbox = (-77.12, 38.79, -76.91, 38.995)\n",
    "\n",
    "clip_nlcd(\n",
    "    bbox=dc_bbox,\n",
    "    output_path=\"dc_nlcd.tiff\",\n",
    "    resolution=30\n",
    ")"
   ],
   "id": "c3fa51037cd1fa65",
   "outputs": [
    {
     "name": "stdout",
     "output_type": "stream",
     "text": [
      "Error: API Error: {'code': 499, 'message': 'Token Required', 'details': []}\n"
     ]
    }
   ],
   "execution_count": 2
  },
  {
   "metadata": {
    "ExecuteTime": {
     "end_time": "2024-12-05T19:30:57.696941Z",
     "start_time": "2024-12-05T19:30:57.688344Z"
    }
   },
   "cell_type": "code",
   "source": [
    "import ee\n",
    "import geemap\n",
    "import os\n",
    "\n",
    "def download_nlcd(bbox, output_path, year=2019):\n",
    "    \"\"\"\n",
    "    Download NLCD data from Google Earth Engine for a given bounding box.\n",
    "\n",
    "    Parameters:\n",
    "    bbox (tuple): Bounding box coordinates (xmin, ymin, xmax, ymax) in WGS84\n",
    "    output_path (str): Path to save the output GeoTIFF\n",
    "    year (int): NLCD year (2001, 2004, 2006, 2008, 2011, 2013, 2016, or 2019)\n",
    "    \"\"\"\n",
    "    # Initialize Earth Engine\n",
    "    try:\n",
    "        ee.Initialize()\n",
    "    except Exception as e:\n",
    "        print(\"Please authenticate using 'earthengine authenticate' in terminal first\")\n",
    "        raise e\n",
    "\n",
    "    # Create geometry from bbox\n",
    "    roi = ee.Geometry.Rectangle(bbox)\n",
    "\n",
    "    # Get NLCD dataset\n",
    "    dataset = ee.ImageCollection(\"USGS/NLCD_RELEASES/2021_REL/NLCD\")\n",
    "\n",
    "    # Filter to get the land cover for specified year\n",
    "    nlcd = dataset.filter(ee.Filter.eq('system:index', f'{year}')).first() \\\n",
    "        .select('landcover')\n",
    "\n",
    "    # Clip to region of interest\n",
    "    clipped = nlcd.clip(roi)\n",
    "\n",
    "    # Create download URL\n",
    "    try:\n",
    "        url = clipped.getDownloadURL({\n",
    "            'scale': 30,  # Native NLCD resolution\n",
    "            'crs': 'EPSG:4326',\n",
    "            'format': 'GEO_TIFF',\n",
    "            'region': roi\n",
    "        })\n",
    "        print(\"works\")\n",
    "        # Use geemap to download the file\n",
    "        geemap.download_file(url, output_path)\n",
    "\n",
    "        print(f\"Successfully downloaded NLCD {year} data to {output_path}\")\n",
    "\n",
    "    except Exception as e:\n",
    "        print(f\"Error downloading data: {str(e)}\")\n",
    "\n",
    "def get_nlcd_class_names(value):\n",
    "    \"\"\"Return NLCD class name for a given value.\"\"\"\n",
    "    classes = {\n",
    "        11: 'Open Water',\n",
    "        12: 'Perennial Ice/Snow',\n",
    "        21: 'Developed, Open Space',\n",
    "        22: 'Developed, Low Intensity',\n",
    "        23: 'Developed, Medium Intensity',\n",
    "        24: 'Developed, High Intensity',\n",
    "        31: 'Barren Land',\n",
    "        41: 'Deciduous Forest',\n",
    "        42: 'Evergreen Forest',\n",
    "        43: 'Mixed Forest',\n",
    "        51: 'Dwarf Scrub',\n",
    "        52: 'Shrub/Scrub',\n",
    "        71: 'Grassland/Herbaceous',\n",
    "        72: 'Sedge/Herbaceous',\n",
    "        73: 'Lichens',\n",
    "        74: 'Moss',\n",
    "        81: 'Pasture/Hay',\n",
    "        82: 'Cultivated Crops',\n",
    "        90: 'Woody Wetlands',\n",
    "        95: 'Emergent Herbaceous Wetlands'\n",
    "    }\n",
    "    return classes.get(value, 'Unknown')\n"
   ],
   "id": "a7d952b8d56706b5",
   "outputs": [
    {
     "data": {
      "text/plain": [
       "<IPython.core.display.HTML object>"
      ],
      "text/html": [
       "\n",
       "            <style>\n",
       "                .geemap-dark {\n",
       "                    --jp-widgets-color: white;\n",
       "                    --jp-widgets-label-color: white;\n",
       "                    --jp-ui-font-color1: white;\n",
       "                    --jp-layout-color2: #454545;\n",
       "                    background-color: #383838;\n",
       "                }\n",
       "\n",
       "                .geemap-dark .jupyter-button {\n",
       "                    --jp-layout-color3: #383838;\n",
       "                }\n",
       "\n",
       "                .geemap-colab {\n",
       "                    background-color: var(--colab-primary-surface-color, white);\n",
       "                }\n",
       "\n",
       "                .geemap-colab .jupyter-button {\n",
       "                    --jp-layout-color3: var(--colab-primary-surface-color, white);\n",
       "                }\n",
       "            </style>\n",
       "            "
      ]
     },
     "metadata": {},
     "output_type": "display_data"
    }
   ],
   "execution_count": 9
  },
  {
   "metadata": {
    "ExecuteTime": {
     "end_time": "2024-12-05T19:19:03.561825Z",
     "start_time": "2024-12-05T19:17:28.270145Z"
    }
   },
   "cell_type": "code",
   "source": "ee.Authenticate()",
   "id": "fc933fbb745f85ea",
   "outputs": [
    {
     "data": {
      "text/plain": [
       "<IPython.core.display.HTML object>"
      ],
      "text/html": [
       "\n",
       "            <style>\n",
       "                .geemap-dark {\n",
       "                    --jp-widgets-color: white;\n",
       "                    --jp-widgets-label-color: white;\n",
       "                    --jp-ui-font-color1: white;\n",
       "                    --jp-layout-color2: #454545;\n",
       "                    background-color: #383838;\n",
       "                }\n",
       "\n",
       "                .geemap-dark .jupyter-button {\n",
       "                    --jp-layout-color3: #383838;\n",
       "                }\n",
       "\n",
       "                .geemap-colab {\n",
       "                    background-color: var(--colab-primary-surface-color, white);\n",
       "                }\n",
       "\n",
       "                .geemap-colab .jupyter-button {\n",
       "                    --jp-layout-color3: var(--colab-primary-surface-color, white);\n",
       "                }\n",
       "            </style>\n",
       "            "
      ]
     },
     "metadata": {},
     "output_type": "display_data"
    },
    {
     "data": {
      "text/plain": [
       "<IPython.core.display.HTML object>"
      ],
      "text/html": [
       "<p>To authorize access needed by Earth Engine, open the following\n",
       "        URL in a web browser and follow the instructions:</p>\n",
       "        <p><a href=https://code.earthengine.google.com/client-auth?scopes=https%3A//www.googleapis.com/auth/earthengine%20https%3A//www.googleapis.com/auth/cloud-platform%20https%3A//www.googleapis.com/auth/devstorage.full_control&request_id=o2UMX61ouCnPmMxNwqhqQ53VEsDenxrktK-rToaD6mA&tc=X8PgfNhUC4S2u4ugOJtQeXCCm_ewMAIalTKKwRgnSzE&cc=Y73XLjtH-9K0lHyx_8sNnNrxU8vHJ6QnxLlljNZVBlU>https://code.earthengine.google.com/client-auth?scopes=https%3A//www.googleapis.com/auth/earthengine%20https%3A//www.googleapis.com/auth/cloud-platform%20https%3A//www.googleapis.com/auth/devstorage.full_control&request_id=o2UMX61ouCnPmMxNwqhqQ53VEsDenxrktK-rToaD6mA&tc=X8PgfNhUC4S2u4ugOJtQeXCCm_ewMAIalTKKwRgnSzE&cc=Y73XLjtH-9K0lHyx_8sNnNrxU8vHJ6QnxLlljNZVBlU</a></p>\n",
       "        <p>The authorization workflow will generate a code, which you should paste in the box below.</p>\n",
       "        "
      ]
     },
     "metadata": {},
     "output_type": "display_data"
    },
    {
     "name": "stdout",
     "output_type": "stream",
     "text": [
      "\n",
      "Successfully saved authorization token.\n"
     ]
    }
   ],
   "execution_count": 3
  },
  {
   "metadata": {
    "ExecuteTime": {
     "end_time": "2024-12-05T19:17:03.535124Z",
     "start_time": "2024-12-05T19:17:02.236057Z"
    }
   },
   "cell_type": "code",
   "source": "ee.Initialize()",
   "id": "121e9ec30f0fbfdb",
   "outputs": [
    {
     "data": {
      "text/plain": [
       "<IPython.core.display.HTML object>"
      ],
      "text/html": [
       "\n",
       "            <style>\n",
       "                .geemap-dark {\n",
       "                    --jp-widgets-color: white;\n",
       "                    --jp-widgets-label-color: white;\n",
       "                    --jp-ui-font-color1: white;\n",
       "                    --jp-layout-color2: #454545;\n",
       "                    background-color: #383838;\n",
       "                }\n",
       "\n",
       "                .geemap-dark .jupyter-button {\n",
       "                    --jp-layout-color3: #383838;\n",
       "                }\n",
       "\n",
       "                .geemap-colab {\n",
       "                    background-color: var(--colab-primary-surface-color, white);\n",
       "                }\n",
       "\n",
       "                .geemap-colab .jupyter-button {\n",
       "                    --jp-layout-color3: var(--colab-primary-surface-color, white);\n",
       "                }\n",
       "            </style>\n",
       "            "
      ]
     },
     "metadata": {},
     "output_type": "display_data"
    },
    {
     "ename": "EEException",
     "evalue": "Please authorize access to your Earth Engine account by running\n\nearthengine authenticate\n\nin your command line, or ee.Authenticate() in Python, and then retry.",
     "output_type": "error",
     "traceback": [
      "\u001B[1;31m---------------------------------------------------------------------------\u001B[0m",
      "\u001B[1;31mEEException\u001B[0m                               Traceback (most recent call last)",
      "Cell \u001B[1;32mIn[2], line 1\u001B[0m\n\u001B[1;32m----> 1\u001B[0m \u001B[43mee\u001B[49m\u001B[38;5;241;43m.\u001B[39;49m\u001B[43mInitialize\u001B[49m\u001B[43m(\u001B[49m\u001B[43m)\u001B[49m\n",
      "File \u001B[1;32m~\\Anaconda3\\envs\\pygis12\\Lib\\site-packages\\ee\\_utils.py:38\u001B[0m, in \u001B[0;36maccept_opt_prefix.<locals>.opt_fixed.<locals>.wrapper\u001B[1;34m(*args, **kwargs)\u001B[0m\n\u001B[0;32m     36\u001B[0m     \u001B[38;5;28;01mif\u001B[39;00m new_key \u001B[38;5;129;01mnot\u001B[39;00m \u001B[38;5;129;01min\u001B[39;00m kwargs:\n\u001B[0;32m     37\u001B[0m       kwargs[new_key] \u001B[38;5;241m=\u001B[39m old_key_val\n\u001B[1;32m---> 38\u001B[0m \u001B[38;5;28;01mreturn\u001B[39;00m \u001B[43mfunc\u001B[49m\u001B[43m(\u001B[49m\u001B[38;5;241;43m*\u001B[39;49m\u001B[43margs\u001B[49m\u001B[43m,\u001B[49m\u001B[43m \u001B[49m\u001B[38;5;241;43m*\u001B[39;49m\u001B[38;5;241;43m*\u001B[39;49m\u001B[43mkwargs\u001B[49m\u001B[43m)\u001B[49m\n",
      "File \u001B[1;32m~\\Anaconda3\\envs\\pygis12\\Lib\\site-packages\\ee\\__init__.py:154\u001B[0m, in \u001B[0;36mInitialize\u001B[1;34m(credentials, url, cloud_api_key, http_transport, project)\u001B[0m\n\u001B[0;32m    137\u001B[0m \u001B[38;5;250m\u001B[39m\u001B[38;5;124;03m\"\"\"Initialize the EE library.\u001B[39;00m\n\u001B[0;32m    138\u001B[0m \n\u001B[0;32m    139\u001B[0m \u001B[38;5;124;03mIf this hasn't been called by the time any object constructor is used,\u001B[39;00m\n\u001B[1;32m   (...)\u001B[0m\n\u001B[0;32m    151\u001B[0m \u001B[38;5;124;03m  project: The client project ID or number to use when making API calls.\u001B[39;00m\n\u001B[0;32m    152\u001B[0m \u001B[38;5;124;03m\"\"\"\u001B[39;00m\n\u001B[0;32m    153\u001B[0m \u001B[38;5;28;01mif\u001B[39;00m credentials \u001B[38;5;241m==\u001B[39m \u001B[38;5;124m'\u001B[39m\u001B[38;5;124mpersistent\u001B[39m\u001B[38;5;124m'\u001B[39m:\n\u001B[1;32m--> 154\u001B[0m   credentials \u001B[38;5;241m=\u001B[39m \u001B[43mdata\u001B[49m\u001B[38;5;241;43m.\u001B[39;49m\u001B[43mget_persistent_credentials\u001B[49m\u001B[43m(\u001B[49m\u001B[43m)\u001B[49m\n\u001B[0;32m    155\u001B[0m \u001B[38;5;28;01mif\u001B[39;00m \u001B[38;5;129;01mnot\u001B[39;00m project \u001B[38;5;129;01mand\u001B[39;00m credentials \u001B[38;5;129;01mand\u001B[39;00m \u001B[38;5;28mhasattr\u001B[39m(credentials, \u001B[38;5;124m'\u001B[39m\u001B[38;5;124mquota_project_id\u001B[39m\u001B[38;5;124m'\u001B[39m):\n\u001B[0;32m    156\u001B[0m   project \u001B[38;5;241m=\u001B[39m credentials\u001B[38;5;241m.\u001B[39mquota_project_id\n",
      "File \u001B[1;32m~\\Anaconda3\\envs\\pygis12\\Lib\\site-packages\\ee\\data.py:281\u001B[0m, in \u001B[0;36mget_persistent_credentials\u001B[1;34m()\u001B[0m\n\u001B[0;32m    279\u001B[0m   \u001B[38;5;28;01mif\u001B[39;00m oauth\u001B[38;5;241m.\u001B[39mis_valid_credentials(credentials):\n\u001B[0;32m    280\u001B[0m     \u001B[38;5;28;01mreturn\u001B[39;00m credentials\n\u001B[1;32m--> 281\u001B[0m \u001B[38;5;28;01mraise\u001B[39;00m ee_exception\u001B[38;5;241m.\u001B[39mEEException(  \u001B[38;5;66;03m# pylint: disable=raise-missing-from\u001B[39;00m\n\u001B[0;32m    282\u001B[0m     \u001B[38;5;124m'\u001B[39m\u001B[38;5;124mPlease authorize access to your Earth Engine account by \u001B[39m\u001B[38;5;124m'\u001B[39m\n\u001B[0;32m    283\u001B[0m     \u001B[38;5;124m'\u001B[39m\u001B[38;5;124mrunning\u001B[39m\u001B[38;5;130;01m\\n\u001B[39;00m\u001B[38;5;130;01m\\n\u001B[39;00m\u001B[38;5;124mearthengine authenticate\u001B[39m\u001B[38;5;130;01m\\n\u001B[39;00m\u001B[38;5;130;01m\\n\u001B[39;00m\u001B[38;5;124m'\u001B[39m\n\u001B[0;32m    284\u001B[0m     \u001B[38;5;124m'\u001B[39m\u001B[38;5;124min your command line, or ee.Authenticate() in Python, and then retry.\u001B[39m\u001B[38;5;124m'\u001B[39m\n\u001B[0;32m    285\u001B[0m )\n",
      "\u001B[1;31mEEException\u001B[0m: Please authorize access to your Earth Engine account by running\n\nearthengine authenticate\n\nin your command line, or ee.Authenticate() in Python, and then retry."
     ]
    }
   ],
   "execution_count": 2
  },
  {
   "metadata": {
    "ExecuteTime": {
     "end_time": "2024-12-05T19:31:07.263900Z",
     "start_time": "2024-12-05T19:31:01.314661Z"
    }
   },
   "cell_type": "code",
   "source": [
    "dc_bbox = [-112.12, 38.79, -111.91, 39.995]\n",
    "\n",
    "download_nlcd(\n",
    "    bbox=dc_bbox,\n",
    "    output_path=\"dc_nlcd_gee.tiff\",\n",
    "    year=2021\n",
    ")"
   ],
   "id": "2ee6fb85fa158091",
   "outputs": [
    {
     "data": {
      "text/plain": [
       "<IPython.core.display.HTML object>"
      ],
      "text/html": [
       "\n",
       "            <style>\n",
       "                .geemap-dark {\n",
       "                    --jp-widgets-color: white;\n",
       "                    --jp-widgets-label-color: white;\n",
       "                    --jp-ui-font-color1: white;\n",
       "                    --jp-layout-color2: #454545;\n",
       "                    background-color: #383838;\n",
       "                }\n",
       "\n",
       "                .geemap-dark .jupyter-button {\n",
       "                    --jp-layout-color3: #383838;\n",
       "                }\n",
       "\n",
       "                .geemap-colab {\n",
       "                    background-color: var(--colab-primary-surface-color, white);\n",
       "                }\n",
       "\n",
       "                .geemap-colab .jupyter-button {\n",
       "                    --jp-layout-color3: var(--colab-primary-surface-color, white);\n",
       "                }\n",
       "            </style>\n",
       "            "
      ]
     },
     "metadata": {},
     "output_type": "display_data"
    },
    {
     "name": "stdout",
     "output_type": "stream",
     "text": [
      "works\n"
     ]
    },
    {
     "name": "stderr",
     "output_type": "stream",
     "text": [
      "Downloading...\n",
      "From: https://earthengine.googleapis.com/v1/projects/114443260784/thumbnails/16f1e2b81c1533493265a2dfa044b494-01fa3d4d0129b69aa4ad2a11909c403d:getPixels\n",
      "To: C:\\Users\\paulinkenbrandt\\Documents\\GitHub\\pySWB2\\notebooks\\dc_nlcd_gee.tiff\n",
      "100%|██████████| 349k/349k [00:00<00:00, 1.08MB/s]"
     ]
    },
    {
     "name": "stdout",
     "output_type": "stream",
     "text": [
      "Successfully downloaded NLCD 2021 data to dc_nlcd_gee.tiff\n"
     ]
    },
    {
     "name": "stderr",
     "output_type": "stream",
     "text": [
      "\n"
     ]
    }
   ],
   "execution_count": 10
  },
  {
   "metadata": {},
   "cell_type": "code",
   "outputs": [],
   "execution_count": null,
   "source": [
    "import requests\n",
    "from owslib.wms import WebMapService\n",
    "import rasterio\n",
    "from rasterio.transform import from_bounds\n",
    "import numpy as np\n",
    "from PIL import Image\n",
    "import io\n"
   ],
   "id": "2a118072a81294e1"
  },
  {
   "metadata": {},
   "cell_type": "code",
   "outputs": [],
   "execution_count": null,
   "source": [
    "\n",
    "def download_nlcd_wms(bbox, output_path, width=1000, height=1000, year=2021):\n",
    "    \"\"\"\n",
    "    Download NLCD data from USGS GeoServer WMS.\n",
    "\n",
    "    Parameters:\n",
    "    bbox (tuple): Bounding box coordinates (xmin, ymin, xmax, ymax) in EPSG:4326\n",
    "    output_path (str): Path to save the output GeoTIFF\n",
    "    width (int): Output image width in pixels\n",
    "    height (int): Output image height in pixels\n",
    "    year (int): NLCD year\n",
    "    \"\"\"\n",
    "    # WMS URL\n",
    "    wms_url = \"https://dmsdata.cr.usgs.gov/geoserver/mrlc_Land-Cover-Native_conus_year_data/wms\"\n",
    "\n",
    "    try:\n",
    "        # Connect to WMS\n",
    "        wms = WebMapService(wms_url, version='1.3.0')\n",
    "\n",
    "        # Get layer name for specified year\n",
    "        layer_name = f'mrlc_Land-Cover-Native_conus_{year}_data'\n",
    "\n",
    "        if layer_name not in wms.contents:\n",
    "            available_years = [l.split('_')[-2] for l in wms.contents.keys()\n",
    "                             if l.startswith('mrlc_Land-Cover-Native_conus_')]\n",
    "            raise ValueError(f\"Year {year} not available. Available years: {', '.join(available_years)}\")\n",
    "\n",
    "        # Request the image\n",
    "        img = wms.getmap(layers=[layer_name],\n",
    "                        srs='EPSG:4326',\n",
    "                        bbox=bbox,\n",
    "                        size=(width, height),\n",
    "                        format='image/tiff',\n",
    "                        transparent=True)\n",
    "\n",
    "        # Save to file and set proper georeference\n",
    "        with open(output_path, 'wb') as f:\n",
    "            f.write(img.read())\n",
    "\n",
    "        # Update georeference information\n",
    "        with rasterio.open(output_path, 'r+') as dst:\n",
    "            # Calculate transform\n",
    "            transform = from_bounds(bbox[0], bbox[1], bbox[2], bbox[3],\n",
    "                                  width, height)\n",
    "\n",
    "            # Update metadata\n",
    "            dst.transform = transform\n",
    "            dst.crs = 'EPSG:4326'\n",
    "\n",
    "        print(f\"Successfully downloaded NLCD {year} data to {output_path}\")\n",
    "\n",
    "    except Exception as e:\n",
    "        print(f\"Error: {str(e)}\")\n",
    "\n",
    "def get_nlcd_class_names(value):\n",
    "    \"\"\"Return NLCD class name for a given value.\"\"\"\n",
    "    classes = {\n",
    "        11: 'Open Water',\n",
    "        12: 'Perennial Ice/Snow',\n",
    "        21: 'Developed, Open Space',\n",
    "        22: 'Developed, Low Intensity',\n",
    "        23: 'Developed, Medium Intensity',\n",
    "        24: 'Developed, High Intensity',\n",
    "        31: 'Barren Land',\n",
    "        41: 'Deciduous Forest',\n",
    "        42: 'Evergreen Forest',\n",
    "        43: 'Mixed Forest',\n",
    "        51: 'Dwarf Scrub',\n",
    "        52: 'Shrub/Scrub',\n",
    "        71: 'Grassland/Herbaceous',\n",
    "        72: 'Sedge/Herbaceous',\n",
    "        73: 'Lichens',\n",
    "        74: 'Moss',\n",
    "        81: 'Pasture/Hay',\n",
    "        82: 'Cultivated Crops',\n",
    "        90: 'Woody Wetlands',\n",
    "        95: 'Emergent Herbaceous Wetlands'\n",
    "    }\n",
    "    return classes.get(value, 'Unknown')\n",
    "\n",
    "# Example usage\n",
    "if __name__ == \"__main__\":\n",
    "    # Example bbox for Washington, DC area\n",
    "    dc_bbox = (-77.12, 38.79, -76.91, 38.995)\n",
    "\n",
    "    download_nlcd_wms(\n",
    "        bbox=dc_bbox,\n",
    "        output_path=\"dc_nlcd_wms.tiff\",\n",
    "        width=1000,\n",
    "        height=1000,\n",
    "        year=2021\n",
    "    )"
   ],
   "id": "c9cc0dd29315276c"
  }
 ],
 "metadata": {
  "kernelspec": {
   "display_name": "Python 3",
   "language": "python",
   "name": "python3"
  },
  "language_info": {
   "codemirror_mode": {
    "name": "ipython",
    "version": 2
   },
   "file_extension": ".py",
   "mimetype": "text/x-python",
   "name": "python",
   "nbconvert_exporter": "python",
   "pygments_lexer": "ipython2",
   "version": "2.7.6"
  }
 },
 "nbformat": 4,
 "nbformat_minor": 5
}
