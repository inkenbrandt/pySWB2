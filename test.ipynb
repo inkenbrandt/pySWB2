{
 "cells": [
  {
   "cell_type": "code",
   "id": "initial_id",
   "metadata": {
    "collapsed": true,
    "ExecuteTime": {
     "end_time": "2024-12-05T23:52:26.580069Z",
     "start_time": "2024-12-05T23:52:26.416378Z"
    }
   },
   "source": [
    "from pathlib import Path\n",
    "import numpy as np\n",
    "from datetime import datetime, timedelta\n",
    "\n",
    "from pyswb2.configuration import ModelConfig, GridConfig, InputConfig, OutputConfig\n",
    "from pyswb2.model_domain import ModelDomain\n",
    "from pyswb2.daily_calculation import DailyCalculation\n",
    "from pyswb2.runoff import RunoffParameters\n",
    "from pyswb2.soil import SoilParameters\n",
    "\n",
    "def create_sample_data(nx: int, ny: int):\n",
    "    \"\"\"Create sample input grids\"\"\"\n",
    "    # Create sample landuse grid (1=grass, 2=forest)\n",
    "    landuse = np.ones((ny, nx), dtype=np.int32)\n",
    "    landuse[:, nx//2:] = 2\n",
    "\n",
    "    # Create sample soil groups (1=sandy, 2=clay)\n",
    "    soils = np.ones((ny, nx), dtype=np.int32)\n",
    "    soils[ny//2:, :] = 2\n",
    "\n",
    "    # Create sample elevation grid (sloping from west to east)\n",
    "    elevation = np.linspace(100, 200, nx)\n",
    "    elevation = np.tile(elevation, (ny, 1))\n",
    "\n",
    "    # Create canopy cover grid (50% for grass, 80% for forest)\n",
    "    canopy_cover = np.where(landuse == 1, 0.5, 0.8)\n",
    "\n",
    "    # Create D8 flow direction grid (flow to east)\n",
    "    flow_dir = np.full((ny, nx), 1)\n",
    "\n",
    "    return landuse, soils, elevation, canopy_cover, flow_dir\n",
    "\n",
    "def create_sample_fragments_file():\n",
    "    \"\"\"Create a minimal fragments file for testing\"\"\"\n",
    "    content = \"\"\"# Sample fragments file\n",
    "1 1 1 0.1 0.1 0.1 0.1 0.1 0.1 0.1 0.1 0.1 0.1 0.0 0.0 0.0 0.0 0.0 0.0 0.0 0.0 0.0 0.0 0.0 0.0 0.0 0.0 0.0 0.0 0.0 0.0 0.0\n",
    "2 1 1 0.1 0.1 0.1 0.1 0.1 0.1 0.1 0.1 0.1 0.1 0.0 0.0 0.0 0.0 0.0 0.0 0.0 0.0 0.0 0.0 0.0 0.0 0.0 0.0 0.0 0.0 0.0 0.0 0.0\n",
    "3 1 1 0.1 0.1 0.1 0.1 0.1 0.1 0.1 0.1 0.1 0.1 0.0 0.0 0.0 0.0 0.0 0.0 0.0 0.0 0.0 0.0 0.0 0.0 0.0 0.0 0.0 0.0 0.0 0.0 0.0\n",
    "4 1 1 0.1 0.1 0.1 0.1 0.1 0.1 0.1 0.1 0.1 0.1 0.0 0.0 0.0 0.0 0.0 0.0 0.0 0.0 0.0 0.0 0.0 0.0 0.0 0.0 0.0 0.0 0.0 0.0 0.0\n",
    "5 1 1 0.1 0.1 0.1 0.1 0.1 0.1 0.1 0.1 0.1 0.1 0.0 0.0 0.0 0.0 0.0 0.0 0.0 0.0 0.0 0.0 0.0 0.0 0.0 0.0 0.0 0.0 0.0 0.0 0.0\n",
    "6 1 1 0.1 0.1 0.1 0.1 0.1 0.1 0.1 0.1 0.1 0.1 0.0 0.0 0.0 0.0 0.0 0.0 0.0 0.0 0.0 0.0 0.0 0.0 0.0 0.0 0.0 0.0 0.0 0.0 0.0\n",
    "7 1 1 0.1 0.1 0.1 0.1 0.1 0.1 0.1 0.1 0.1 0.1 0.0 0.0 0.0 0.0 0.0 0.0 0.0 0.0 0.0 0.0 0.0 0.0 0.0 0.0 0.0 0.0 0.0 0.0 0.0\n",
    "8 1 1 0.1 0.1 0.1 0.1 0.1 0.1 0.1 0.1 0.1 0.1 0.0 0.0 0.0 0.0 0.0 0.0 0.0 0.0 0.0 0.0 0.0 0.0 0.0 0.0 0.0 0.0 0.0 0.0 0.0\n",
    "9 1 1 0.1 0.1 0.1 0.1 0.1 0.1 0.1 0.1 0.1 0.1 0.0 0.0 0.0 0.0 0.0 0.0 0.0 0.0 0.0 0.0 0.0 0.0 0.0 0.0 0.0 0.0 0.0 0.0 0.0\n",
    "10 1 1 0.1 0.1 0.1 0.1 0.1 0.1 0.1 0.1 0.1 0.1 0.0 0.0 0.0 0.0 0.0 0.0 0.0 0.0 0.0 0.0 0.0 0.0 0.0 0.0 0.0 0.0 0.0 0.0 0.0\n",
    "11 1 1 0.1 0.1 0.1 0.1 0.1 0.1 0.1 0.1 0.1 0.1 0.0 0.0 0.0 0.0 0.0 0.0 0.0 0.0 0.0 0.0 0.0 0.0 0.0 0.0 0.0 0.0 0.0 0.0 0.0\n",
    "12 1 1 0.1 0.1 0.1 0.1 0.1 0.1 0.1 0.1 0.1 0.1 0.0 0.0 0.0 0.0 0.0 0.0 0.0 0.0 0.0 0.0 0.0 0.0 0.0 0.0 0.0 0.0 0.0 0.0 0.0\"\"\"\n",
    "\n",
    "    with open(\"fragments.txt\", \"w\") as f:\n",
    "        f.write(content)\n",
    "\n",
    "    return Path(\"fragments.txt\")\n"
   ],
   "outputs": [],
   "execution_count": 1
  },
  {
   "metadata": {
    "ExecuteTime": {
     "end_time": "2024-12-05T23:52:27.295951Z",
     "start_time": "2024-12-05T23:52:27.287205Z"
    }
   },
   "cell_type": "code",
   "source": [
    "# Create sample fragments file\n",
    "fragments_file = create_sample_fragments_file()\n",
    "\n",
    "# Define model grid\n",
    "grid_config = GridConfig(\n",
    "    nx=10,\n",
    "    ny=10,\n",
    "    x0=0.0,\n",
    "    y0=0.0,\n",
    "    cell_size=1000.0  # 1km cells\n",
    ")\n",
    "\n",
    "# Create sample data\n",
    "landuse, soils, elevation, canopy_cover, flow_dir = create_sample_data(grid_config.nx, grid_config.ny)\n",
    "\n",
    "# Save sample grids\n",
    "np.savetxt(\"landuse.asc\", landuse)\n",
    "np.savetxt(\"soils.asc\", soils)\n",
    "np.savetxt(\"elevation.asc\", elevation)\n",
    "np.savetxt(\"flow_dir.asc\", flow_dir)"
   ],
   "id": "e65a395b52aef031",
   "outputs": [],
   "execution_count": 2
  },
  {
   "metadata": {
    "ExecuteTime": {
     "end_time": "2024-12-05T23:52:28.698384Z",
     "start_time": "2024-12-05T23:52:28.694263Z"
    }
   },
   "cell_type": "code",
   "source": [
    "# Configure input/output\n",
    "input_config = InputConfig(\n",
    "    landuse_grid=Path(\"landuse.asc\"),\n",
    "    soils_grid=Path(\"soils.asc\")\n",
    ")\n",
    "\n",
    "output_config = OutputConfig(\n",
    "    directory=Path(\"output\"),\n",
    "    prefix=\"swb_sim\",\n",
    "    variables=[\"net_infiltration\", \"soil_storage\", \"actual_et\"]\n",
    ")\n",
    "\n",
    "# Create model configuration\n",
    "config = ModelConfig(\n",
    "    grid=grid_config,\n",
    "    input=input_config,\n",
    "    output=output_config,\n",
    "    start_date=datetime(2024, 1, 1),\n",
    "    end_date=datetime(2024, 12, 31)\n",
    ")\n"
   ],
   "id": "fd81157562370544",
   "outputs": [],
   "execution_count": 3
  },
  {
   "metadata": {
    "ExecuteTime": {
     "end_time": "2024-12-05T23:52:29.478413Z",
     "start_time": "2024-12-05T23:52:29.476386Z"
    }
   },
   "cell_type": "code",
   "source": "",
   "id": "2483570ebf7d2a6b",
   "outputs": [],
   "execution_count": null
  },
  {
   "metadata": {
    "ExecuteTime": {
     "end_time": "2024-12-05T23:52:30.033599Z",
     "start_time": "2024-12-05T23:52:30.025406Z"
    }
   },
   "cell_type": "code",
   "source": [
    "# Initialize model\n",
    "model = ModelDomain()\n",
    "model.initialize_grid(\n",
    "    nx=config.grid.nx,\n",
    "    ny=config.grid.ny,\n",
    "    x_ll=config.grid.x0,\n",
    "    y_ll=config.grid.y0,\n",
    "    cell_size=config.grid.cell_size\n",
    ")\n",
    "\n",
    "# Define parameters using dictionaries of raw values\n",
    "# Define landuse parameters\n",
    "landuse_params = {\n",
    "    1: {  # Grass\n",
    "        'runoff': {\n",
    "            'curve_number': 70.0,\n",
    "            'initial_abstraction_ratio': 0.2,\n",
    "            'depression_storage': 0.1\n",
    "        },\n",
    "        'interception': {\n",
    "            'canopy_storage_capacity': 0.05,\n",
    "            'trunk_storage_capacity': 0.02,\n",
    "            'stemflow_fraction': 0.1,\n",
    "            'interception_storage_max_growing': 0.1,\n",
    "            'interception_storage_max_nongrowing': 0.05\n",
    "        }\n",
    "    },\n",
    "    2: {  # Forest\n",
    "        'runoff': {\n",
    "            'curve_number': 60.0,\n",
    "            'initial_abstraction_ratio': 0.2,\n",
    "            'depression_storage': 0.2\n",
    "        },\n",
    "        'interception': {\n",
    "            'canopy_storage_capacity': 0.1,\n",
    "            'trunk_storage_capacity': 0.05,\n",
    "            'stemflow_fraction': 0.15,\n",
    "            'interception_storage_max_growing': 0.2,\n",
    "            'interception_storage_max_nongrowing': 0.1\n",
    "        }\n",
    "    }\n",
    "}\n",
    "\n",
    "soil_params = {\n",
    "    1: {  # Sandy\n",
    "        'infiltration': {\n",
    "            'maximum_rate': 1.0,\n",
    "            'minimum_rate': 0.1,\n",
    "            'soil_storage_max': 8.0\n",
    "        }\n",
    "    },\n",
    "    2: {  # Clay\n",
    "        'infiltration': {\n",
    "            'maximum_rate': 0.5,\n",
    "            'minimum_rate': 0.05,\n",
    "            'soil_storage_max': 12.0\n",
    "        }\n",
    "    }\n",
    "}\n",
    "\n",
    "\n",
    "soil_params = {\n",
    "    1: {  # Sandy\n",
    "        'infiltration': {\n",
    "            'maximum_rate': 1.0,\n",
    "            'minimum_rate': 0.1,\n",
    "            'soil_storage_max': 8.0\n",
    "        },\n",
    "        'soil': {\n",
    "            'field_capacity': 0.2,\n",
    "            'wilting_point': 0.05,\n",
    "            'hydraulic_conductivity': 1.0\n",
    "        }\n",
    "    },\n",
    "    2: {  # Clay\n",
    "        'infiltration': {\n",
    "            'maximum_rate': 0.5,\n",
    "            'minimum_rate': 0.05,\n",
    "            'soil_storage_max': 12.0\n",
    "        },\n",
    "        'soil': {\n",
    "            'field_capacity': 0.4,\n",
    "            'wilting_point': 0.15,\n",
    "            'hydraulic_conductivity': 0.5\n",
    "        }\n",
    "    }\n",
    "}\n",
    "\n",
    "# Initialize parameters\n",
    "model.initialize_parameters(landuse_params, soil_params)\n"
   ],
   "id": "910531d30e754389",
   "outputs": [],
   "execution_count": 4
  },
  {
   "metadata": {
    "ExecuteTime": {
     "end_time": "2024-12-05T23:52:30.825898Z",
     "start_time": "2024-12-05T23:52:30.801275Z"
    }
   },
   "cell_type": "code",
   "source": [
    "# Initialize modules\n",
    "landuse_indices = landuse.flatten()\n",
    "soil_indices = soils.flatten()\n",
    "\n",
    "# Initialize interception module specifically\n",
    "model.interception_module.initialize(\n",
    "    landuse_indices=landuse_indices,\n",
    "    canopy_cover=canopy_cover.flatten()\n",
    ")\n",
    "\n",
    "# Initialize agriculture module\n",
    "model.agriculture_module.initialize(landuse_indices)\n",
    "\n",
    "# Initialize other modules\n",
    "model.initialize_modules(\n",
    "    landuse_indices=landuse_indices,\n",
    "    soil_indices=soil_indices,\n",
    "    elevation=elevation.flatten(),\n",
    "    latitude=np.full_like(elevation.flatten(), 45.0),\n",
    "    fragments_file=fragments_file,\n",
    ")\n",
    "\n",
    "# Create daily calculator\n",
    "daily_calc = DailyCalculation(model)\n",
    "\n",
    "# Run simulation\n",
    "current_date = datetime(2024, 1, 1)\n",
    "end_date = datetime(2024, 12, 31)"
   ],
   "id": "8f4bfc6a1334becf",
   "outputs": [],
   "execution_count": 5
  },
  {
   "metadata": {
    "ExecuteTime": {
     "end_time": "2024-12-05T23:52:32.845836Z",
     "start_time": "2024-12-05T23:52:32.448709Z"
    }
   },
   "cell_type": "code",
   "source": [
    "\n",
    "while current_date <= config.end_date:\n",
    "    # Get weather data (in practice this would come from files)\n",
    "    model.tmin = np.full(model.domain_size, 10.0)  # Example temperature data\n",
    "    model.tmax = np.full(model.domain_size, 20.0)\n",
    "    model.gross_precipitation = np.full(model.domain_size, 0.1)  # Example precipitation\n",
    "\n",
    "    # Run daily calculations\n",
    "    daily_calc.perform_daily_calculation(current_date)\n",
    "\n",
    "    # Write output (simplified)\n",
    "    print(f\"Date: {current_date}\")\n",
    "    print(f\"Mean net infiltration: {model.net_infiltration.mean():.3f}\")\n",
    "    print(f\"Mean soil storage: {model.soil_storage.mean():.3f}\")\n",
    "    print(f\"Mean actual ET: {model.actual_et.mean():.3f}\")\n",
    "    print()\n",
    "\n",
    "    current_date += timedelta(days=1)"
   ],
   "id": "40fd84d7970c67f3",
   "outputs": [
    {
     "name": "stderr",
     "output_type": "stream",
     "text": [
      "C:\\Users\\paulinkenbrandt\\Documents\\GitHub\\pySWB2\\pyswb2\\interception.py:206: RuntimeWarning: divide by zero encountered in log\n",
      "  np.log(1.0 - e_div_p[mask])\n"
     ]
    },
    {
     "ename": "ValueError",
     "evalue": "operands could not be broadcast together with shapes (100,) (50,) ",
     "output_type": "error",
     "traceback": [
      "\u001B[1;31m---------------------------------------------------------------------------\u001B[0m",
      "\u001B[1;31mValueError\u001B[0m                                Traceback (most recent call last)",
      "Cell \u001B[1;32mIn[6], line 8\u001B[0m\n\u001B[0;32m      5\u001B[0m model\u001B[38;5;241m.\u001B[39mgross_precipitation \u001B[38;5;241m=\u001B[39m np\u001B[38;5;241m.\u001B[39mfull(model\u001B[38;5;241m.\u001B[39mdomain_size, \u001B[38;5;241m0.1\u001B[39m)  \u001B[38;5;66;03m# Example precipitation\u001B[39;00m\n\u001B[0;32m      7\u001B[0m \u001B[38;5;66;03m# Run daily calculations\u001B[39;00m\n\u001B[1;32m----> 8\u001B[0m \u001B[43mdaily_calc\u001B[49m\u001B[38;5;241;43m.\u001B[39;49m\u001B[43mperform_daily_calculation\u001B[49m\u001B[43m(\u001B[49m\u001B[43mcurrent_date\u001B[49m\u001B[43m)\u001B[49m\n\u001B[0;32m     10\u001B[0m \u001B[38;5;66;03m# Write output (simplified)\u001B[39;00m\n\u001B[0;32m     11\u001B[0m \u001B[38;5;28mprint\u001B[39m(\u001B[38;5;124mf\u001B[39m\u001B[38;5;124m\"\u001B[39m\u001B[38;5;124mDate: \u001B[39m\u001B[38;5;132;01m{\u001B[39;00mcurrent_date\u001B[38;5;132;01m}\u001B[39;00m\u001B[38;5;124m\"\u001B[39m)\n",
      "File \u001B[1;32m~\\Documents\\GitHub\\pySWB2\\pyswb2\\daily_calculation.py:28\u001B[0m, in \u001B[0;36mDailyCalculation.perform_daily_calculation\u001B[1;34m(self, date)\u001B[0m\n\u001B[0;32m     25\u001B[0m \u001B[38;5;28mself\u001B[39m\u001B[38;5;241m.\u001B[39m_partition_precipitation()\n\u001B[0;32m     27\u001B[0m \u001B[38;5;66;03m# 2. Handle canopy interception\u001B[39;00m\n\u001B[1;32m---> 28\u001B[0m \u001B[38;5;28;43mself\u001B[39;49m\u001B[38;5;241;43m.\u001B[39;49m\u001B[43m_process_interception\u001B[49m\u001B[43m(\u001B[49m\u001B[43m)\u001B[49m\n\u001B[0;32m     30\u001B[0m \u001B[38;5;66;03m# 3. Update snow storage and calculate snowmelt\u001B[39;00m\n\u001B[0;32m     31\u001B[0m \u001B[38;5;28mself\u001B[39m\u001B[38;5;241m.\u001B[39m_process_snow()\n",
      "File \u001B[1;32m~\\Documents\\GitHub\\pySWB2\\pyswb2\\daily_calculation.py:64\u001B[0m, in \u001B[0;36mDailyCalculation._process_interception\u001B[1;34m(self)\u001B[0m\n\u001B[0;32m     62\u001B[0m \u001B[38;5;250m\u001B[39m\u001B[38;5;124;03m\"\"\"Calculate interception and update storages\"\"\"\u001B[39;00m\n\u001B[0;32m     63\u001B[0m \u001B[38;5;66;03m# Calculate new interception\u001B[39;00m\n\u001B[1;32m---> 64\u001B[0m \u001B[38;5;28;43mself\u001B[39;49m\u001B[38;5;241;43m.\u001B[39;49m\u001B[43mdomain\u001B[49m\u001B[38;5;241;43m.\u001B[39;49m\u001B[43minterception_module\u001B[49m\u001B[38;5;241;43m.\u001B[39;49m\u001B[43mcalculate_interception\u001B[49m\u001B[43m(\u001B[49m\n\u001B[0;32m     65\u001B[0m \u001B[43m    \u001B[49m\u001B[43mrainfall\u001B[49m\u001B[38;5;241;43m=\u001B[39;49m\u001B[38;5;28;43mself\u001B[39;49m\u001B[38;5;241;43m.\u001B[39;49m\u001B[43mdomain\u001B[49m\u001B[38;5;241;43m.\u001B[39;49m\u001B[43mrainfall\u001B[49m\u001B[43m,\u001B[49m\n\u001B[0;32m     66\u001B[0m \u001B[43m    \u001B[49m\u001B[43mfog\u001B[49m\u001B[38;5;241;43m=\u001B[39;49m\u001B[38;5;28;43mself\u001B[39;49m\u001B[38;5;241;43m.\u001B[39;49m\u001B[43mdomain\u001B[49m\u001B[38;5;241;43m.\u001B[39;49m\u001B[43mfog\u001B[49m\u001B[43m,\u001B[49m\n\u001B[0;32m     67\u001B[0m \u001B[43m    \u001B[49m\u001B[43mis_growing_season\u001B[49m\u001B[38;5;241;43m=\u001B[39;49m\u001B[38;5;28;43mself\u001B[39;49m\u001B[38;5;241;43m.\u001B[39;49m\u001B[43mdomain\u001B[49m\u001B[38;5;241;43m.\u001B[39;49m\u001B[43magriculture_module\u001B[49m\u001B[38;5;241;43m.\u001B[39;49m\u001B[43mis_growing_season\u001B[49m\n\u001B[0;32m     68\u001B[0m \u001B[43m\u001B[49m\u001B[43m)\u001B[49m\n\u001B[0;32m     70\u001B[0m \u001B[38;5;66;03m# Update interception storage\u001B[39;00m\n\u001B[0;32m     71\u001B[0m \u001B[38;5;28mself\u001B[39m\u001B[38;5;241m.\u001B[39m_calculate_interception_mass_balance()\n",
      "File \u001B[1;32m~\\Documents\\GitHub\\pySWB2\\pyswb2\\interception.py:111\u001B[0m, in \u001B[0;36mInterceptionModule.calculate_interception\u001B[1;34m(self, rainfall, fog, is_growing_season)\u001B[0m\n\u001B[0;32m    109\u001B[0m \u001B[38;5;66;03m# Calculate potential interception\u001B[39;00m\n\u001B[0;32m    110\u001B[0m \u001B[38;5;28;01mif\u001B[39;00m \u001B[38;5;28mself\u001B[39m\u001B[38;5;241m.\u001B[39mmethod \u001B[38;5;241m==\u001B[39m \u001B[38;5;124m\"\u001B[39m\u001B[38;5;124mgash\u001B[39m\u001B[38;5;124m\"\u001B[39m:\n\u001B[1;32m--> 111\u001B[0m     \u001B[38;5;28;43mself\u001B[39;49m\u001B[38;5;241;43m.\u001B[39;49m\u001B[43m_calculate_gash_interception\u001B[49m\u001B[43m(\u001B[49m\u001B[43mrainfall\u001B[49m\u001B[43m,\u001B[49m\u001B[43m \u001B[49m\u001B[43mfog\u001B[49m\u001B[43m,\u001B[49m\u001B[43m \u001B[49m\u001B[43mis_growing_season\u001B[49m\u001B[43m)\u001B[49m\n\u001B[0;32m    112\u001B[0m \u001B[38;5;28;01melse\u001B[39;00m:\n\u001B[0;32m    113\u001B[0m     \u001B[38;5;28mself\u001B[39m\u001B[38;5;241m.\u001B[39m_calculate_bucket_interception(rainfall, fog, is_growing_season)\n",
      "File \u001B[1;32m~\\Documents\\GitHub\\pySWB2\\pyswb2\\interception.py:146\u001B[0m, in \u001B[0;36mInterceptionModule._calculate_gash_interception\u001B[1;34m(self, rainfall, fog, is_growing_season)\u001B[0m\n\u001B[0;32m    143\u001B[0m between \u001B[38;5;241m=\u001B[39m \u001B[38;5;241m~\u001B[39m(below_sat \u001B[38;5;241m|\u001B[39m above_trunk)\n\u001B[0;32m    145\u001B[0m \u001B[38;5;66;03m# Calculate interception for cells below saturation\u001B[39;00m\n\u001B[1;32m--> 146\u001B[0m masked_indices \u001B[38;5;241m=\u001B[39m \u001B[43mmask\u001B[49m\u001B[43m \u001B[49m\u001B[38;5;241;43m&\u001B[39;49m\u001B[43m \u001B[49m\u001B[43mbelow_sat\u001B[49m\n\u001B[0;32m    147\u001B[0m \u001B[38;5;28mself\u001B[39m\u001B[38;5;241m.\u001B[39minterception[masked_indices] \u001B[38;5;241m=\u001B[39m (\n\u001B[0;32m    148\u001B[0m         \u001B[38;5;28mself\u001B[39m\u001B[38;5;241m.\u001B[39mcanopy_cover_fraction[masked_indices] \u001B[38;5;241m*\u001B[39m total_input[masked_indices]\n\u001B[0;32m    149\u001B[0m )\n\u001B[0;32m    151\u001B[0m \u001B[38;5;66;03m# Calculate interception for cells above trunk storage capacity\u001B[39;00m\n",
      "\u001B[1;31mValueError\u001B[0m: operands could not be broadcast together with shapes (100,) (50,) "
     ]
    }
   ],
   "execution_count": 6
  },
  {
   "metadata": {},
   "cell_type": "code",
   "outputs": [],
   "execution_count": null,
   "source": "",
   "id": "5bf50f97d87062cd"
  }
 ],
 "metadata": {
  "kernelspec": {
   "display_name": "Python 3",
   "language": "python",
   "name": "python3"
  },
  "language_info": {
   "codemirror_mode": {
    "name": "ipython",
    "version": 2
   },
   "file_extension": ".py",
   "mimetype": "text/x-python",
   "name": "python",
   "nbconvert_exporter": "python",
   "pygments_lexer": "ipython2",
   "version": "2.7.6"
  }
 },
 "nbformat": 4,
 "nbformat_minor": 5
}
